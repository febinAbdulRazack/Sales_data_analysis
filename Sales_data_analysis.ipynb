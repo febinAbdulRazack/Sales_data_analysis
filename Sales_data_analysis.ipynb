{
 "cells": [
  {
   "cell_type": "code",
   "execution_count": 31,
   "id": "e7e14e80",
   "metadata": {},
   "outputs": [],
   "source": [
    "import pandas as pd\n",
    "import numpy as np\n",
    "import matplotlib.pyplot as plt\n",
    "%matplotlib inline\n",
    "import seaborn as sns"
   ]
  },
  {
   "cell_type": "code",
   "execution_count": 3,
   "id": "37e901b4",
   "metadata": {},
   "outputs": [
    {
     "data": {
      "text/html": [
       "<div>\n",
       "<style scoped>\n",
       "    .dataframe tbody tr th:only-of-type {\n",
       "        vertical-align: middle;\n",
       "    }\n",
       "\n",
       "    .dataframe tbody tr th {\n",
       "        vertical-align: top;\n",
       "    }\n",
       "\n",
       "    .dataframe thead th {\n",
       "        text-align: right;\n",
       "    }\n",
       "</style>\n",
       "<table border=\"1\" class=\"dataframe\">\n",
       "  <thead>\n",
       "    <tr style=\"text-align: right;\">\n",
       "      <th></th>\n",
       "      <th>Date</th>\n",
       "      <th>Time</th>\n",
       "      <th>State</th>\n",
       "      <th>Group</th>\n",
       "      <th>Unit</th>\n",
       "      <th>Sales</th>\n",
       "    </tr>\n",
       "  </thead>\n",
       "  <tbody>\n",
       "    <tr>\n",
       "      <th>0</th>\n",
       "      <td>2020-10-01</td>\n",
       "      <td>Morning</td>\n",
       "      <td>WA</td>\n",
       "      <td>Kids</td>\n",
       "      <td>8</td>\n",
       "      <td>20000</td>\n",
       "    </tr>\n",
       "    <tr>\n",
       "      <th>1</th>\n",
       "      <td>2020-10-01</td>\n",
       "      <td>Morning</td>\n",
       "      <td>WA</td>\n",
       "      <td>Men</td>\n",
       "      <td>8</td>\n",
       "      <td>20000</td>\n",
       "    </tr>\n",
       "    <tr>\n",
       "      <th>2</th>\n",
       "      <td>2020-10-01</td>\n",
       "      <td>Morning</td>\n",
       "      <td>WA</td>\n",
       "      <td>Women</td>\n",
       "      <td>4</td>\n",
       "      <td>10000</td>\n",
       "    </tr>\n",
       "    <tr>\n",
       "      <th>3</th>\n",
       "      <td>2020-10-01</td>\n",
       "      <td>Morning</td>\n",
       "      <td>WA</td>\n",
       "      <td>Seniors</td>\n",
       "      <td>15</td>\n",
       "      <td>37500</td>\n",
       "    </tr>\n",
       "    <tr>\n",
       "      <th>4</th>\n",
       "      <td>2020-10-01</td>\n",
       "      <td>Afternoon</td>\n",
       "      <td>WA</td>\n",
       "      <td>Kids</td>\n",
       "      <td>3</td>\n",
       "      <td>7500</td>\n",
       "    </tr>\n",
       "  </tbody>\n",
       "</table>\n",
       "</div>"
      ],
      "text/plain": [
       "        Date        Time State     Group  Unit  Sales\n",
       "0 2020-10-01     Morning    WA      Kids     8  20000\n",
       "1 2020-10-01     Morning    WA       Men     8  20000\n",
       "2 2020-10-01     Morning    WA     Women     4  10000\n",
       "3 2020-10-01     Morning    WA   Seniors    15  37500\n",
       "4 2020-10-01   Afternoon    WA      Kids     3   7500"
      ]
     },
     "execution_count": 3,
     "metadata": {},
     "output_type": "execute_result"
    }
   ],
   "source": [
    "sales=pd.read_excel('Salesdata.xlsx')\n",
    "sales.head()"
   ]
  },
  {
   "cell_type": "code",
   "execution_count": 10,
   "id": "99a9199f",
   "metadata": {},
   "outputs": [
    {
     "data": {
      "text/plain": [
       "(7560, 6)"
      ]
     },
     "execution_count": 10,
     "metadata": {},
     "output_type": "execute_result"
    }
   ],
   "source": [
    "sales.shape"
   ]
  },
  {
   "cell_type": "markdown",
   "id": "60df1b93",
   "metadata": {},
   "source": [
    "There are total 6 columns and 7560 rows"
   ]
  },
  {
   "cell_type": "code",
   "execution_count": 4,
   "id": "35f65f47",
   "metadata": {},
   "outputs": [
    {
     "name": "stdout",
     "output_type": "stream",
     "text": [
      "<class 'pandas.core.frame.DataFrame'>\n",
      "RangeIndex: 7560 entries, 0 to 7559\n",
      "Data columns (total 6 columns):\n",
      " #   Column  Non-Null Count  Dtype         \n",
      "---  ------  --------------  -----         \n",
      " 0   Date    7560 non-null   datetime64[ns]\n",
      " 1   Time    7560 non-null   object        \n",
      " 2   State   7560 non-null   object        \n",
      " 3   Group   7560 non-null   object        \n",
      " 4   Unit    7560 non-null   int64         \n",
      " 5   Sales   7560 non-null   int64         \n",
      "dtypes: datetime64[ns](1), int64(2), object(3)\n",
      "memory usage: 354.5+ KB\n"
     ]
    }
   ],
   "source": [
    "sales.info()"
   ]
  },
  {
   "cell_type": "markdown",
   "id": "d189298b",
   "metadata": {},
   "source": [
    "Here we can see that there are 1 datetime column, 3 categorical columns and 2 numerical columns"
   ]
  },
  {
   "cell_type": "code",
   "execution_count": 5,
   "id": "c4f25b6d",
   "metadata": {},
   "outputs": [
    {
     "data": {
      "text/plain": [
       "Date     0\n",
       "Time     0\n",
       "State    0\n",
       "Group    0\n",
       "Unit     0\n",
       "Sales    0\n",
       "dtype: int64"
      ]
     },
     "execution_count": 5,
     "metadata": {},
     "output_type": "execute_result"
    }
   ],
   "source": [
    "sales.isna().sum()"
   ]
  },
  {
   "cell_type": "markdown",
   "id": "d8e81f00",
   "metadata": {},
   "source": [
    "There is no missing values in this data set\n"
   ]
  },
  {
   "cell_type": "code",
   "execution_count": 7,
   "id": "b8283fee",
   "metadata": {},
   "outputs": [],
   "source": [
    "duplicate_rows = sales[sales.duplicated()]"
   ]
  },
  {
   "cell_type": "code",
   "execution_count": 8,
   "id": "3c850ce5",
   "metadata": {},
   "outputs": [
    {
     "data": {
      "text/html": [
       "<div>\n",
       "<style scoped>\n",
       "    .dataframe tbody tr th:only-of-type {\n",
       "        vertical-align: middle;\n",
       "    }\n",
       "\n",
       "    .dataframe tbody tr th {\n",
       "        vertical-align: top;\n",
       "    }\n",
       "\n",
       "    .dataframe thead th {\n",
       "        text-align: right;\n",
       "    }\n",
       "</style>\n",
       "<table border=\"1\" class=\"dataframe\">\n",
       "  <thead>\n",
       "    <tr style=\"text-align: right;\">\n",
       "      <th></th>\n",
       "      <th>Date</th>\n",
       "      <th>Time</th>\n",
       "      <th>State</th>\n",
       "      <th>Group</th>\n",
       "      <th>Unit</th>\n",
       "      <th>Sales</th>\n",
       "    </tr>\n",
       "  </thead>\n",
       "  <tbody>\n",
       "  </tbody>\n",
       "</table>\n",
       "</div>"
      ],
      "text/plain": [
       "Empty DataFrame\n",
       "Columns: [Date, Time, State, Group, Unit, Sales]\n",
       "Index: []"
      ]
     },
     "execution_count": 8,
     "metadata": {},
     "output_type": "execute_result"
    }
   ],
   "source": [
    "duplicate_rows"
   ]
  },
  {
   "cell_type": "markdown",
   "id": "882ac95d",
   "metadata": {},
   "source": [
    "There is no duplicate rows present"
   ]
  },
  {
   "cell_type": "markdown",
   "id": "f2a6bf46",
   "metadata": {},
   "source": [
    "Here looking at the values of unit and sales column we can see there is wide range difference in values so we have to scale them.Here we ose standardization using z score value i.e z=(x-mean)/S.D."
   ]
  },
  {
   "cell_type": "code",
   "execution_count": 11,
   "id": "9a73b737",
   "metadata": {},
   "outputs": [
    {
     "data": {
      "text/html": [
       "<div>\n",
       "<style scoped>\n",
       "    .dataframe tbody tr th:only-of-type {\n",
       "        vertical-align: middle;\n",
       "    }\n",
       "\n",
       "    .dataframe tbody tr th {\n",
       "        vertical-align: top;\n",
       "    }\n",
       "\n",
       "    .dataframe thead th {\n",
       "        text-align: right;\n",
       "    }\n",
       "</style>\n",
       "<table border=\"1\" class=\"dataframe\">\n",
       "  <thead>\n",
       "    <tr style=\"text-align: right;\">\n",
       "      <th></th>\n",
       "      <th>Unit</th>\n",
       "      <th>Sales</th>\n",
       "    </tr>\n",
       "  </thead>\n",
       "  <tbody>\n",
       "    <tr>\n",
       "      <th>count</th>\n",
       "      <td>7560.000000</td>\n",
       "      <td>7560.000000</td>\n",
       "    </tr>\n",
       "    <tr>\n",
       "      <th>mean</th>\n",
       "      <td>18.005423</td>\n",
       "      <td>45013.558201</td>\n",
       "    </tr>\n",
       "    <tr>\n",
       "      <th>std</th>\n",
       "      <td>12.901403</td>\n",
       "      <td>32253.506944</td>\n",
       "    </tr>\n",
       "    <tr>\n",
       "      <th>min</th>\n",
       "      <td>2.000000</td>\n",
       "      <td>5000.000000</td>\n",
       "    </tr>\n",
       "    <tr>\n",
       "      <th>25%</th>\n",
       "      <td>8.000000</td>\n",
       "      <td>20000.000000</td>\n",
       "    </tr>\n",
       "    <tr>\n",
       "      <th>50%</th>\n",
       "      <td>14.000000</td>\n",
       "      <td>35000.000000</td>\n",
       "    </tr>\n",
       "    <tr>\n",
       "      <th>75%</th>\n",
       "      <td>26.000000</td>\n",
       "      <td>65000.000000</td>\n",
       "    </tr>\n",
       "    <tr>\n",
       "      <th>max</th>\n",
       "      <td>65.000000</td>\n",
       "      <td>162500.000000</td>\n",
       "    </tr>\n",
       "  </tbody>\n",
       "</table>\n",
       "</div>"
      ],
      "text/plain": [
       "              Unit          Sales\n",
       "count  7560.000000    7560.000000\n",
       "mean     18.005423   45013.558201\n",
       "std      12.901403   32253.506944\n",
       "min       2.000000    5000.000000\n",
       "25%       8.000000   20000.000000\n",
       "50%      14.000000   35000.000000\n",
       "75%      26.000000   65000.000000\n",
       "max      65.000000  162500.000000"
      ]
     },
     "execution_count": 11,
     "metadata": {},
     "output_type": "execute_result"
    }
   ],
   "source": [
    "sales.describe()"
   ]
  },
  {
   "cell_type": "markdown",
   "id": "36a33131",
   "metadata": {},
   "source": [
    "Here we can see both unit and sales are right skewed since their mean is greater than median"
   ]
  },
  {
   "cell_type": "code",
   "execution_count": 15,
   "id": "dc3483c6",
   "metadata": {},
   "outputs": [],
   "source": [
    "grouped = sales.groupby('Group')['Sales'].sum()"
   ]
  },
  {
   "cell_type": "code",
   "execution_count": 17,
   "id": "066dba63",
   "metadata": {},
   "outputs": [],
   "source": [
    "high_sales_group=grouped.idxmax()"
   ]
  },
  {
   "cell_type": "code",
   "execution_count": 18,
   "id": "c1cc5186",
   "metadata": {},
   "outputs": [
    {
     "data": {
      "text/plain": [
       "' Men'"
      ]
     },
     "execution_count": 18,
     "metadata": {},
     "output_type": "execute_result"
    }
   ],
   "source": [
    "high_sales_group"
   ]
  },
  {
   "cell_type": "markdown",
   "id": "8a8f6fb1",
   "metadata": {},
   "source": [
    "Group 'Men' has the highest sale"
   ]
  },
  {
   "cell_type": "code",
   "execution_count": 19,
   "id": "9b180873",
   "metadata": {},
   "outputs": [],
   "source": [
    "low_sales_group=grouped.idxmin()"
   ]
  },
  {
   "cell_type": "code",
   "execution_count": 20,
   "id": "adcdf56e",
   "metadata": {},
   "outputs": [
    {
     "data": {
      "text/plain": [
       "' Seniors'"
      ]
     },
     "execution_count": 20,
     "metadata": {},
     "output_type": "execute_result"
    }
   ],
   "source": [
    "low_sales_group"
   ]
  },
  {
   "cell_type": "markdown",
   "id": "64ab77cc",
   "metadata": {},
   "source": [
    "Group \"Seniors\" has the lowest sale"
   ]
  },
  {
   "cell_type": "code",
   "execution_count": 21,
   "id": "b0802356",
   "metadata": {},
   "outputs": [],
   "source": [
    "state_group=sales.groupby('State')['Sales'].sum()"
   ]
  },
  {
   "cell_type": "code",
   "execution_count": 22,
   "id": "dd537afc",
   "metadata": {},
   "outputs": [],
   "source": [
    "high_sale_state=state_group.idxmax()"
   ]
  },
  {
   "cell_type": "code",
   "execution_count": 23,
   "id": "041cba19",
   "metadata": {},
   "outputs": [
    {
     "data": {
      "text/plain": [
       "' VIC'"
      ]
     },
     "execution_count": 23,
     "metadata": {},
     "output_type": "execute_result"
    }
   ],
   "source": [
    "high_sale_state"
   ]
  },
  {
   "cell_type": "markdown",
   "id": "12f432a4",
   "metadata": {},
   "source": [
    "'VIC' has the highest sale"
   ]
  },
  {
   "cell_type": "code",
   "execution_count": 24,
   "id": "ff19c0a5",
   "metadata": {},
   "outputs": [],
   "source": [
    "low_sale_state=state_group.idxmin()"
   ]
  },
  {
   "cell_type": "code",
   "execution_count": 25,
   "id": "d243dca3",
   "metadata": {},
   "outputs": [
    {
     "data": {
      "text/plain": [
       "' WA'"
      ]
     },
     "execution_count": 25,
     "metadata": {},
     "output_type": "execute_result"
    }
   ],
   "source": [
    "low_sale_state"
   ]
  },
  {
   "cell_type": "markdown",
   "id": "b3b8d9eb",
   "metadata": {},
   "source": [
    "'WA' has the lowest sale"
   ]
  },
  {
   "cell_type": "markdown",
   "id": "c1200deb",
   "metadata": {},
   "source": [
    "# Weekly,Monthly and Quarterly sales report"
   ]
  },
  {
   "cell_type": "code",
   "execution_count": 26,
   "id": "343562cb",
   "metadata": {},
   "outputs": [],
   "source": [
    "# Set the 'Date' column as the index\n",
    "sales.set_index('Date', inplace=True)"
   ]
  },
  {
   "cell_type": "code",
   "execution_count": 28,
   "id": "16bdf512",
   "metadata": {},
   "outputs": [
    {
     "name": "stderr",
     "output_type": "stream",
     "text": [
      "C:\\Users\\User\\AppData\\Local\\Temp\\ipykernel_9940\\51442521.py:2: FutureWarning: The default value of numeric_only in DataFrameGroupBy.sum is deprecated. In a future version, numeric_only will default to False. Either specify numeric_only or select only columns which should be valid for the function.\n",
      "  weekly_report = sales.resample('W').sum()\n",
      "C:\\Users\\User\\AppData\\Local\\Temp\\ipykernel_9940\\51442521.py:3: FutureWarning: The default value of numeric_only in DataFrameGroupBy.sum is deprecated. In a future version, numeric_only will default to False. Either specify numeric_only or select only columns which should be valid for the function.\n",
      "  monthly_report = sales.resample('M').sum()\n",
      "C:\\Users\\User\\AppData\\Local\\Temp\\ipykernel_9940\\51442521.py:4: FutureWarning: The default value of numeric_only in DataFrameGroupBy.sum is deprecated. In a future version, numeric_only will default to False. Either specify numeric_only or select only columns which should be valid for the function.\n",
      "  quarterly_report = sales.resample('Q').sum()\n"
     ]
    }
   ],
   "source": [
    "# Generate weekly, monthly, and quarterly reports\n",
    "weekly_report = sales.resample('W').sum()\n",
    "monthly_report = sales.resample('M').sum()\n",
    "quarterly_report = sales.resample('Q').sum()"
   ]
  },
  {
   "cell_type": "code",
   "execution_count": 29,
   "id": "63047906",
   "metadata": {},
   "outputs": [
    {
     "name": "stdout",
     "output_type": "stream",
     "text": [
      "Weekly Report:\n",
      "             Unit     Sales\n",
      "Date                       \n",
      "2020-10-04   6018  15045000\n",
      "2020-10-11  10801  27002500\n",
      "2020-10-18  10656  26640000\n",
      "2020-10-25  10726  26815000\n",
      "2020-11-01   8723  21807500\n",
      "\n",
      "Monthly Report:\n",
      "             Unit      Sales\n",
      "Date                        \n",
      "2020-10-31  45716  114290000\n",
      "2020-11-30  36273   90682500\n",
      "2020-12-31  54132  135330000\n",
      "\n",
      "Quarterly Report:\n",
      "              Unit      Sales\n",
      "Date                         \n",
      "2020-12-31  136121  340302500\n"
     ]
    }
   ],
   "source": [
    "print(\"Weekly Report:\")\n",
    "print(weekly_report.head())\n",
    "\n",
    "print(\"\\nMonthly Report:\")\n",
    "print(monthly_report.head())\n",
    "\n",
    "print(\"\\nQuarterly Report:\")\n",
    "print(quarterly_report.head())"
   ]
  },
  {
   "cell_type": "markdown",
   "id": "558a463d",
   "metadata": {},
   "source": [
    "# ○\tState-wise sales analysis for different groups (kids, women, men, and seniors) "
   ]
  },
  {
   "cell_type": "code",
   "execution_count": 32,
   "id": "d91756b2",
   "metadata": {},
   "outputs": [
    {
     "data": {
      "text/plain": [
       "<Axes: xlabel='State', ylabel='Sales'>"
      ]
     },
     "execution_count": 32,
     "metadata": {},
     "output_type": "execute_result"
    },
    {
     "data": {
      "image/png": "[encoded data removed]",
      "text/plain": [
       "<Figure size 640x480 with 1 Axes>"
      ]
     },
     "metadata": {},
     "output_type": "display_data"
    }
   ],
   "source": [
    "sns.barplot(x='State',y='Sales',hue='Group',data=sales)"
   ]
  },
  {
   "cell_type": "markdown",
   "id": "bb75eb1b",
   "metadata": {},
   "source": [
    "# ○\tGroup-wise sales analysis (kids, women, men, and seniors) across different states."
   ]
  },
  {
   "cell_type": "code",
   "execution_count": 33,
   "id": "5ccbfc2f",
   "metadata": {},
   "outputs": [
    {
     "data": {
      "text/plain": [
       "<Axes: xlabel='Group', ylabel='Sales'>"
      ]
     },
     "execution_count": 33,
     "metadata": {},
     "output_type": "execute_result"
    },
    {
     "data": {
      "image/png": "[encoded data removed]",
      "text/plain": [
       "<Figure size 640x480 with 1 Axes>"
      ]
     },
     "metadata": {},
     "output_type": "display_data"
    }
   ],
   "source": [
    "sns.barplot(x='Group',y='Sales',data=sales)"
   ]
  },
  {
   "cell_type": "markdown",
   "id": "0b8ee945",
   "metadata": {},
   "source": [
    "# ○\tTime-of-the-day analysis"
   ]
  },
  {
   "cell_type": "code",
   "execution_count": 34,
   "id": "0f4996d0",
   "metadata": {},
   "outputs": [],
   "source": [
    "time_group=sales.groupby('Time')['Sales'].sum()"
   ]
  },
  {
   "cell_type": "code",
   "execution_count": 35,
   "id": "336c54be",
   "metadata": {},
   "outputs": [],
   "source": [
    "high_sales_time=time_group.idxmax()"
   ]
  },
  {
   "cell_type": "code",
   "execution_count": 36,
   "id": "12ef0149",
   "metadata": {},
   "outputs": [
    {
     "data": {
      "text/plain": [
       "' Morning'"
      ]
     },
     "execution_count": 36,
     "metadata": {},
     "output_type": "execute_result"
    }
   ],
   "source": [
    "high_sales_time"
   ]
  },
  {
   "cell_type": "code",
   "execution_count": 40,
   "id": "7c92a4ea",
   "metadata": {},
   "outputs": [],
   "source": [
    "low_sales_time=time_group.idxmin()"
   ]
  },
  {
   "cell_type": "code",
   "execution_count": 41,
   "id": "136fc0d5",
   "metadata": {},
   "outputs": [
    {
     "data": {
      "text/plain": [
       "' Evening'"
      ]
     },
     "execution_count": 41,
     "metadata": {},
     "output_type": "execute_result"
    }
   ],
   "source": [
    "low_sales_time"
   ]
  },
  {
   "cell_type": "code",
   "execution_count": 44,
   "id": "8cf6e035",
   "metadata": {},
   "outputs": [
    {
     "data": {
      "text/plain": [
       "<Axes: xlabel='Time', ylabel='Sales'>"
      ]
     },
     "execution_count": 44,
     "metadata": {},
     "output_type": "execute_result"
    },
    {
     "data": {
      "image/png": "[encoded data removed]",
      "text/plain": [
       "<Figure size 640x480 with 1 Axes>"
      ]
     },
     "metadata": {},
     "output_type": "display_data"
    }
   ],
   "source": [
    "\n",
    "sns.barplot(x='Time',y='Sales',data=sales)"
   ]
  },
  {
   "cell_type": "code",
   "execution_count": null,
   "id": "6d873f55",
   "metadata": {},
   "outputs": [],
   "source": []
  }
 ],
 "metadata": {
  "kernelspec": {
   "display_name": "Python 3 (ipykernel)",
   "language": "python",
   "name": "python3"
  },
  "language_info": {
   "codemirror_mode": {
    "name": "ipython",
    "version": 3
   },
   "file_extension": ".py",
   "mimetype": "text/x-python",
   "name": "python",
   "nbconvert_exporter": "python",
   "pygments_lexer": "ipython3",
   "version": "3.10.9"
  }
 },
 "nbformat": 4,
 "nbformat_minor": 5
}
